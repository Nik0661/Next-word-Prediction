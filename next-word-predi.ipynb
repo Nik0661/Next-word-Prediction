{
 "cells": [
  {
   "cell_type": "code",
   "execution_count": 17,
   "metadata": {
    "execution": {
     "iopub.execute_input": "2021-09-18T17:41:03.032810Z",
     "iopub.status.busy": "2021-09-18T17:41:03.031600Z",
     "iopub.status.idle": "2021-09-18T17:41:03.037287Z",
     "shell.execute_reply": "2021-09-18T17:41:03.036268Z",
     "shell.execute_reply.started": "2021-09-18T17:41:03.032751Z"
    }
   },
   "outputs": [],
   "source": [
    "import numpy as np\n",
    "import pandas as pd\n",
    "import os\n"
   ]
  },
  {
   "cell_type": "code",
   "execution_count": 18,
   "metadata": {
    "execution": {
     "iopub.execute_input": "2021-09-18T17:41:03.216408Z",
     "iopub.status.busy": "2021-09-18T17:41:03.215654Z",
     "iopub.status.idle": "2021-09-18T17:41:03.226137Z",
     "shell.execute_reply": "2021-09-18T17:41:03.225142Z",
     "shell.execute_reply.started": "2021-09-18T17:41:03.216365Z"
    }
   },
   "outputs": [
    {
     "data": {
      "text/plain": [
       "['\\n',\n",
       " 'One morning, when Gregor Samsa woke from troubled dreams, he found\\n',\n",
       " 'himself transformed in his bed into a horrible vermin.  He lay on\\n',\n",
       " 'his armour-like back, and if he lifted his head a little he could\\n',\n",
       " 'see his brown belly, slightly domed and divided by arches into stiff\\n']"
      ]
     },
     "execution_count": 18,
     "metadata": {},
     "output_type": "execute_result"
    }
   ],
   "source": [
    "file = open('../input/next-word/next_word.txt', encoding='utf8')\n",
    "lines=[]\n",
    "\n",
    "for i in file:\n",
    "    lines.append(i)\n",
    "lines[:5]"
   ]
  },
  {
   "cell_type": "markdown",
   "metadata": {},
   "source": [
    "# Data Preprocessing"
   ]
  },
  {
   "cell_type": "code",
   "execution_count": null,
   "metadata": {},
   "outputs": [],
   "source": [
    "data=''\n",
    "\n",
    "for i in lines:\n",
    "    data=' '.join(lines)\n",
    "    \n",
    "data = data.replace('\\n','').replace('\\r','')"
   ]
  },
  {
   "cell_type": "code",
   "execution_count": 20,
   "metadata": {
    "execution": {
     "iopub.execute_input": "2021-09-18T17:41:03.536901Z",
     "iopub.status.busy": "2021-09-18T17:41:03.535355Z",
     "iopub.status.idle": "2021-09-18T17:41:03.544765Z",
     "shell.execute_reply": "2021-09-18T17:41:03.543469Z",
     "shell.execute_reply.started": "2021-09-18T17:41:03.536808Z"
    }
   },
   "outputs": [
    {
     "data": {
      "text/plain": [
       "' One morning, when Gregor Samsa woke from troubled dreams, he found himself transformed in his bed into a horrible vermin.  He lay on his armour-like back, and if he lifted his head a little he could see his brown belly, slightly domed and divided by arches into stiff sections.  The bedding was hard'"
      ]
     },
     "execution_count": 20,
     "metadata": {},
     "output_type": "execute_result"
    }
   ],
   "source": [
    "data[:300]"
   ]
  },
  {
   "cell_type": "code",
   "execution_count": 21,
   "metadata": {
    "execution": {
     "iopub.execute_input": "2021-09-18T17:41:03.547304Z",
     "iopub.status.busy": "2021-09-18T17:41:03.546955Z",
     "iopub.status.idle": "2021-09-18T17:41:03.588788Z",
     "shell.execute_reply": "2021-09-18T17:41:03.587534Z",
     "shell.execute_reply.started": "2021-09-18T17:41:03.547249Z"
    }
   },
   "outputs": [
    {
     "data": {
      "text/plain": [
       "' One morning  when Gregor Samsa woke from troubled dreams  he found himself transformed in his bed into a horrible vermin   He lay on his armour like back  and if he lifted his head a little he could see his brown belly  slightly domed and divided by arches into stiff sections   The bedding was hard'"
      ]
     },
     "execution_count": 21,
     "metadata": {},
     "output_type": "execute_result"
    }
   ],
   "source": [
    "#Replace Punctuations with space\n",
    "punc = '''!()-[]{};:'\"\\,<>./?@#$%^&*_~'''\n",
    "\n",
    "for i in data:\n",
    "    if i in punc:\n",
    "        data = data.replace(i,' ')\n",
    "data[:300]"
   ]
  },
  {
   "cell_type": "code",
   "execution_count": 22,
   "metadata": {
    "execution": {
     "iopub.execute_input": "2021-09-18T17:41:03.591481Z",
     "iopub.status.busy": "2021-09-18T17:41:03.591076Z",
     "iopub.status.idle": "2021-09-18T17:41:03.599395Z",
     "shell.execute_reply": "2021-09-18T17:41:03.598428Z",
     "shell.execute_reply.started": "2021-09-18T17:41:03.591443Z"
    }
   },
   "outputs": [],
   "source": [
    "final = data.split()"
   ]
  },
  {
   "cell_type": "code",
   "execution_count": 23,
   "metadata": {
    "execution": {
     "iopub.execute_input": "2021-09-18T17:41:03.620542Z",
     "iopub.status.busy": "2021-09-18T17:41:03.619636Z",
     "iopub.status.idle": "2021-09-18T17:41:03.626575Z",
     "shell.execute_reply": "2021-09-18T17:41:03.625840Z",
     "shell.execute_reply.started": "2021-09-18T17:41:03.620490Z"
    }
   },
   "outputs": [
    {
     "data": {
      "text/plain": [
       "['One', 'morning', 'when', 'Gregor', 'Samsa']"
      ]
     },
     "execution_count": 23,
     "metadata": {},
     "output_type": "execute_result"
    }
   ],
   "source": [
    "final[:5]"
   ]
  },
  {
   "cell_type": "markdown",
   "metadata": {},
   "source": [
    "\n",
    "# Tokenization"
   ]
  },
  {
   "cell_type": "code",
   "execution_count": 24,
   "metadata": {
    "execution": {
     "iopub.execute_input": "2021-09-18T17:41:03.680570Z",
     "iopub.status.busy": "2021-09-18T17:41:03.679392Z",
     "iopub.status.idle": "2021-09-18T17:41:03.684485Z",
     "shell.execute_reply": "2021-09-18T17:41:03.683843Z",
     "shell.execute_reply.started": "2021-09-18T17:41:03.680524Z"
    }
   },
   "outputs": [],
   "source": [
    "from tensorflow.keras.preprocessing.text import Tokenizer\n"
   ]
  },
  {
   "cell_type": "code",
   "execution_count": 25,
   "metadata": {
    "execution": {
     "iopub.execute_input": "2021-09-18T17:41:03.744154Z",
     "iopub.status.busy": "2021-09-18T17:41:03.743312Z",
     "iopub.status.idle": "2021-09-18T17:41:03.977075Z",
     "shell.execute_reply": "2021-09-18T17:41:03.975815Z",
     "shell.execute_reply.started": "2021-09-18T17:41:03.744103Z"
    }
   },
   "outputs": [],
   "source": [
    "token = Tokenizer()\n",
    "token.fit_on_texts(final)\n",
    "\n",
    "seq_data = token.texts_to_sequences([final])"
   ]
  },
  {
   "cell_type": "code",
   "execution_count": 26,
   "metadata": {
    "execution": {
     "iopub.execute_input": "2021-09-18T17:41:03.980059Z",
     "iopub.status.busy": "2021-09-18T17:41:03.979713Z",
     "iopub.status.idle": "2021-09-18T17:41:03.987378Z",
     "shell.execute_reply": "2021-09-18T17:41:03.986200Z",
     "shell.execute_reply.started": "2021-09-18T17:41:03.980013Z"
    }
   },
   "outputs": [
    {
     "data": {
      "text/plain": [
       "3003"
      ]
     },
     "execution_count": 26,
     "metadata": {},
     "output_type": "execute_result"
    }
   ],
   "source": [
    "vc = len(token.word_index)+1\n",
    "vc"
   ]
  },
  {
   "cell_type": "code",
   "execution_count": null,
   "metadata": {},
   "outputs": [],
   "source": []
  },
  {
   "cell_type": "code",
   "execution_count": 27,
   "metadata": {
    "execution": {
     "iopub.execute_input": "2021-09-18T17:41:03.989989Z",
     "iopub.status.busy": "2021-09-18T17:41:03.989578Z",
     "iopub.status.idle": "2021-09-18T17:41:04.006231Z",
     "shell.execute_reply": "2021-09-18T17:41:04.005209Z",
     "shell.execute_reply.started": "2021-09-18T17:41:03.989867Z"
    }
   },
   "outputs": [
    {
     "data": {
      "text/plain": [
       "[[59, 158],\n",
       " [158, 65],\n",
       " [65, 13],\n",
       " [13, 106],\n",
       " [106, 1082],\n",
       " [1082, 30],\n",
       " [30, 1537],\n",
       " [1537, 1083],\n",
       " [1083, 4],\n",
       " [4, 226]]"
      ]
     },
     "execution_count": 27,
     "metadata": {},
     "output_type": "execute_result"
    }
   ],
   "source": [
    "seq = []\n",
    "\n",
    "for i in range(vc):\n",
    "    words = seq_data[0][i-1:i+1]\n",
    "    seq.append(words)\n",
    "seq.remove(seq[0])\n",
    "seq[:10]"
   ]
  },
  {
   "cell_type": "code",
   "execution_count": 40,
   "metadata": {
    "execution": {
     "iopub.execute_input": "2021-09-18T17:43:32.196060Z",
     "iopub.status.busy": "2021-09-18T17:43:32.195227Z",
     "iopub.status.idle": "2021-09-18T17:43:32.205949Z",
     "shell.execute_reply": "2021-09-18T17:43:32.204896Z",
     "shell.execute_reply.started": "2021-09-18T17:43:32.196017Z"
    }
   },
   "outputs": [
    {
     "data": {
      "text/plain": [
       "([59, 158, 65, 13, 106, 1082, 30, 1537, 1083, 4],\n",
       " [158, 65, 13, 106, 1082, 30, 1537, 1083, 4, 226])"
      ]
     },
     "execution_count": 40,
     "metadata": {},
     "output_type": "execute_result"
    }
   ],
   "source": [
    "X=[]\n",
    "y=[]\n",
    "\n",
    "for i in seq:\n",
    "    X.append(i[0])\n",
    "    y.append(i[1])\n",
    "X[:10],y[:10]"
   ]
  },
  {
   "cell_type": "code",
   "execution_count": 52,
   "metadata": {
    "execution": {
     "iopub.execute_input": "2021-09-18T17:48:41.904462Z",
     "iopub.status.busy": "2021-09-18T17:48:41.903942Z",
     "iopub.status.idle": "2021-09-18T17:48:41.919540Z",
     "shell.execute_reply": "2021-09-18T17:48:41.918701Z",
     "shell.execute_reply.started": "2021-09-18T17:48:41.904428Z"
    },
    "scrolled": true
   },
   "outputs": [
    {
     "data": {
      "text/plain": [
       "array([[0., 0., 0., ..., 0., 0., 0.],\n",
       "       [0., 0., 0., ..., 0., 0., 0.],\n",
       "       [0., 0., 0., ..., 0., 0., 0.],\n",
       "       ...,\n",
       "       [0., 0., 0., ..., 0., 0., 0.],\n",
       "       [0., 0., 0., ..., 0., 0., 0.],\n",
       "       [0., 0., 0., ..., 0., 0., 0.]], dtype=float32)"
      ]
     },
     "execution_count": 52,
     "metadata": {},
     "output_type": "execute_result"
    }
   ],
   "source": [
    "from tensorflow.keras.utils import to_categorical\n",
    "y=to_categorical(y,num_classes=vc)\n",
    "y\n"
   ]
  },
  {
   "cell_type": "code",
   "execution_count": 53,
   "metadata": {
    "execution": {
     "iopub.execute_input": "2021-09-18T17:48:43.956266Z",
     "iopub.status.busy": "2021-09-18T17:48:43.955960Z",
     "iopub.status.idle": "2021-09-18T17:48:43.963826Z",
     "shell.execute_reply": "2021-09-18T17:48:43.962821Z",
     "shell.execute_reply.started": "2021-09-18T17:48:43.956233Z"
    }
   },
   "outputs": [
    {
     "data": {
      "text/plain": [
       "(array([ 59, 158,  65, ...,  70, 113, 326]),\n",
       " array([[0., 0., 0., ..., 0., 0., 0.],\n",
       "        [0., 0., 0., ..., 0., 0., 0.],\n",
       "        [0., 0., 0., ..., 0., 0., 0.],\n",
       "        ...,\n",
       "        [0., 0., 0., ..., 0., 0., 0.],\n",
       "        [0., 0., 0., ..., 0., 0., 0.],\n",
       "        [0., 0., 0., ..., 0., 0., 0.]], dtype=float32))"
      ]
     },
     "execution_count": 53,
     "metadata": {},
     "output_type": "execute_result"
    }
   ],
   "source": [
    "X = np.array(X)\n",
    "X,y"
   ]
  },
  {
   "cell_type": "markdown",
   "metadata": {},
   "source": [
    "# Building Model"
   ]
  },
  {
   "cell_type": "code",
   "execution_count": 31,
   "metadata": {
    "execution": {
     "iopub.execute_input": "2021-09-18T17:41:04.181080Z",
     "iopub.status.busy": "2021-09-18T17:41:04.180694Z",
     "iopub.status.idle": "2021-09-18T17:41:04.186838Z",
     "shell.execute_reply": "2021-09-18T17:41:04.185830Z",
     "shell.execute_reply.started": "2021-09-18T17:41:04.181039Z"
    }
   },
   "outputs": [],
   "source": [
    "from tensorflow.keras.layers import Embedding , LSTM , Dense\n",
    "from tensorflow.keras.models import Sequential"
   ]
  },
  {
   "cell_type": "code",
   "execution_count": 34,
   "metadata": {
    "execution": {
     "iopub.execute_input": "2021-09-18T17:42:07.459586Z",
     "iopub.status.busy": "2021-09-18T17:42:07.459241Z",
     "iopub.status.idle": "2021-09-18T17:42:10.783110Z",
     "shell.execute_reply": "2021-09-18T17:42:10.782141Z",
     "shell.execute_reply.started": "2021-09-18T17:42:07.459546Z"
    }
   },
   "outputs": [],
   "source": [
    "model = Sequential()\n",
    "model.add(Embedding(vc, 100, input_length=1))\n",
    "model.add(LSTM(1000,return_sequences=True))\n",
    "model.add(LSTM(1000))\n",
    "model.add(Dense(1000, activation=\"relu\"))\n",
    "model.add(Dense(vc, activation=\"softmax\"))"
   ]
  },
  {
   "cell_type": "code",
   "execution_count": 48,
   "metadata": {
    "execution": {
     "iopub.execute_input": "2021-09-18T17:47:10.584586Z",
     "iopub.status.busy": "2021-09-18T17:47:10.583820Z",
     "iopub.status.idle": "2021-09-18T17:47:10.589505Z",
     "shell.execute_reply": "2021-09-18T17:47:10.588511Z",
     "shell.execute_reply.started": "2021-09-18T17:47:10.584518Z"
    }
   },
   "outputs": [],
   "source": [
    "from tensorflow.keras.optimizers import Adam"
   ]
  },
  {
   "cell_type": "code",
   "execution_count": 49,
   "metadata": {
    "execution": {
     "iopub.execute_input": "2021-09-18T17:47:11.576788Z",
     "iopub.status.busy": "2021-09-18T17:47:11.575526Z",
     "iopub.status.idle": "2021-09-18T17:47:11.590440Z",
     "shell.execute_reply": "2021-09-18T17:47:11.589462Z",
     "shell.execute_reply.started": "2021-09-18T17:47:11.576743Z"
    }
   },
   "outputs": [],
   "source": [
    "model.compile(loss=\"categorical_crossentropy\", optimizer=Adam(lr=0.001))"
   ]
  },
  {
   "cell_type": "code",
   "execution_count": 54,
   "metadata": {
    "execution": {
     "iopub.execute_input": "2021-09-18T17:48:50.996317Z",
     "iopub.status.busy": "2021-09-18T17:48:50.996044Z",
     "iopub.status.idle": "2021-09-18T18:05:57.213768Z",
     "shell.execute_reply": "2021-09-18T18:05:57.212666Z",
     "shell.execute_reply.started": "2021-09-18T17:48:50.996290Z"
    }
   },
   "outputs": [
    {
     "name": "stderr",
     "output_type": "stream",
     "text": [
      "2021-09-18 17:48:51.085102: I tensorflow/compiler/mlir/mlir_graph_optimization_pass.cc:116] None of the MLIR optimization passes are enabled (registered 2)\n",
      "2021-09-18 17:48:51.097873: I tensorflow/core/platform/profile_utils/cpu_utils.cc:112] CPU Frequency: 2199995000 Hz\n"
     ]
    },
    {
     "name": "stdout",
     "output_type": "stream",
     "text": [
      "Epoch 1/150\n",
      "47/47 [==============================] - 11s 148ms/step - loss: 7.5674\n",
      "Epoch 2/150\n",
      "47/47 [==============================] - 7s 152ms/step - loss: 5.7164\n",
      "Epoch 3/150\n",
      "47/47 [==============================] - 7s 147ms/step - loss: 5.6041\n",
      "Epoch 4/150\n",
      "47/47 [==============================] - 7s 149ms/step - loss: 5.4773\n",
      "Epoch 5/150\n",
      "47/47 [==============================] - 7s 145ms/step - loss: 5.4133\n",
      "Epoch 6/150\n",
      "47/47 [==============================] - 7s 147ms/step - loss: 5.4923\n",
      "Epoch 7/150\n",
      "47/47 [==============================] - 7s 150ms/step - loss: 5.4356\n",
      "Epoch 8/150\n",
      "47/47 [==============================] - 7s 145ms/step - loss: 5.4303\n",
      "Epoch 9/150\n",
      "47/47 [==============================] - 7s 146ms/step - loss: 5.2775\n",
      "Epoch 10/150\n",
      "47/47 [==============================] - 7s 145ms/step - loss: 5.0568\n",
      "Epoch 11/150\n",
      "47/47 [==============================] - 7s 146ms/step - loss: 4.9364\n",
      "Epoch 12/150\n",
      "47/47 [==============================] - 7s 151ms/step - loss: 4.7483\n",
      "Epoch 13/150\n",
      "47/47 [==============================] - 7s 145ms/step - loss: 4.6518\n",
      "Epoch 14/150\n",
      "47/47 [==============================] - 7s 147ms/step - loss: 4.5863\n",
      "Epoch 15/150\n",
      "47/47 [==============================] - 7s 145ms/step - loss: 4.3498\n",
      "Epoch 16/150\n",
      "47/47 [==============================] - 7s 145ms/step - loss: 4.1512\n",
      "Epoch 17/150\n",
      "47/47 [==============================] - 7s 153ms/step - loss: 4.0198\n",
      "Epoch 18/150\n",
      "47/47 [==============================] - 7s 146ms/step - loss: 3.8347\n",
      "Epoch 19/150\n",
      "47/47 [==============================] - 7s 146ms/step - loss: 3.7402\n",
      "Epoch 20/150\n",
      "47/47 [==============================] - 7s 146ms/step - loss: 3.5804\n",
      "Epoch 21/150\n",
      "47/47 [==============================] - 7s 144ms/step - loss: 3.4811\n",
      "Epoch 22/150\n",
      "47/47 [==============================] - 7s 154ms/step - loss: 3.4158\n",
      "Epoch 23/150\n",
      "47/47 [==============================] - 7s 145ms/step - loss: 3.2802\n",
      "Epoch 24/150\n",
      "47/47 [==============================] - 7s 143ms/step - loss: 3.2297\n",
      "Epoch 25/150\n",
      "47/47 [==============================] - 7s 145ms/step - loss: 3.1017\n",
      "Epoch 26/150\n",
      "47/47 [==============================] - 7s 145ms/step - loss: 3.1090\n",
      "Epoch 27/150\n",
      "47/47 [==============================] - 7s 149ms/step - loss: 3.0139\n",
      "Epoch 28/150\n",
      "47/47 [==============================] - 7s 145ms/step - loss: 2.9915\n",
      "Epoch 29/150\n",
      "47/47 [==============================] - 7s 144ms/step - loss: 2.9529\n",
      "Epoch 30/150\n",
      "47/47 [==============================] - 7s 145ms/step - loss: 2.8994\n",
      "Epoch 31/150\n",
      "47/47 [==============================] - 7s 151ms/step - loss: 2.7805\n",
      "Epoch 32/150\n",
      "47/47 [==============================] - 7s 144ms/step - loss: 2.7588\n",
      "Epoch 33/150\n",
      "47/47 [==============================] - 7s 145ms/step - loss: 2.8127\n",
      "Epoch 34/150\n",
      "47/47 [==============================] - 7s 144ms/step - loss: 2.7134\n",
      "Epoch 35/150\n",
      "47/47 [==============================] - 7s 144ms/step - loss: 2.6967\n",
      "Epoch 36/150\n",
      "47/47 [==============================] - 7s 151ms/step - loss: 2.6424\n",
      "Epoch 37/150\n",
      "47/47 [==============================] - 7s 144ms/step - loss: 2.5718\n",
      "Epoch 38/150\n",
      "47/47 [==============================] - 7s 145ms/step - loss: 2.5739\n",
      "Epoch 39/150\n",
      "47/47 [==============================] - 7s 143ms/step - loss: 2.5710\n",
      "Epoch 40/150\n",
      "47/47 [==============================] - 7s 142ms/step - loss: 2.5085\n",
      "Epoch 41/150\n",
      "47/47 [==============================] - 7s 150ms/step - loss: 2.4807\n",
      "Epoch 42/150\n",
      "47/47 [==============================] - 7s 143ms/step - loss: 2.4926\n",
      "Epoch 43/150\n",
      "47/47 [==============================] - 7s 143ms/step - loss: 2.4459\n",
      "Epoch 44/150\n",
      "47/47 [==============================] - 7s 143ms/step - loss: 2.4404\n",
      "Epoch 45/150\n",
      "47/47 [==============================] - 7s 142ms/step - loss: 2.4533\n",
      "Epoch 46/150\n",
      "47/47 [==============================] - 7s 149ms/step - loss: 2.3794\n",
      "Epoch 47/150\n",
      "47/47 [==============================] - 7s 143ms/step - loss: 2.3954\n",
      "Epoch 48/150\n",
      "47/47 [==============================] - 7s 145ms/step - loss: 2.3374\n",
      "Epoch 49/150\n",
      "47/47 [==============================] - 7s 143ms/step - loss: 2.3468\n",
      "Epoch 50/150\n",
      "47/47 [==============================] - 7s 141ms/step - loss: 2.3196\n",
      "Epoch 51/150\n",
      "47/47 [==============================] - 7s 149ms/step - loss: 2.2730\n",
      "Epoch 52/150\n",
      "47/47 [==============================] - 7s 144ms/step - loss: 2.3034\n",
      "Epoch 53/150\n",
      "47/47 [==============================] - 7s 142ms/step - loss: 2.2953\n",
      "Epoch 54/150\n",
      "47/47 [==============================] - 7s 143ms/step - loss: 2.2637\n",
      "Epoch 55/150\n",
      "47/47 [==============================] - 7s 142ms/step - loss: 2.2877\n",
      "Epoch 56/150\n",
      "47/47 [==============================] - 7s 150ms/step - loss: 2.2641\n",
      "Epoch 57/150\n",
      "47/47 [==============================] - 7s 143ms/step - loss: 2.2605\n",
      "Epoch 58/150\n",
      "47/47 [==============================] - 7s 143ms/step - loss: 2.1911\n",
      "Epoch 59/150\n",
      "47/47 [==============================] - 7s 146ms/step - loss: 2.2753\n",
      "Epoch 60/150\n",
      "47/47 [==============================] - 7s 142ms/step - loss: 2.1747\n",
      "Epoch 61/150\n",
      "47/47 [==============================] - 7s 150ms/step - loss: 2.2439\n",
      "Epoch 62/150\n",
      "47/47 [==============================] - 7s 144ms/step - loss: 2.2038\n",
      "Epoch 63/150\n",
      "47/47 [==============================] - 7s 142ms/step - loss: 2.2400\n",
      "Epoch 64/150\n",
      "47/47 [==============================] - 7s 143ms/step - loss: 2.1632\n",
      "Epoch 65/150\n",
      "47/47 [==============================] - 7s 146ms/step - loss: 2.1554\n",
      "Epoch 66/150\n",
      "47/47 [==============================] - 7s 145ms/step - loss: 2.1448\n",
      "Epoch 67/150\n",
      "47/47 [==============================] - 7s 142ms/step - loss: 2.2090\n",
      "Epoch 68/150\n",
      "47/47 [==============================] - 7s 143ms/step - loss: 2.1683\n",
      "Epoch 69/150\n",
      "47/47 [==============================] - 7s 145ms/step - loss: 2.1518\n",
      "Epoch 70/150\n",
      "47/47 [==============================] - 7s 150ms/step - loss: 2.1270\n",
      "Epoch 71/150\n",
      "47/47 [==============================] - 7s 144ms/step - loss: 2.1665\n",
      "Epoch 72/150\n",
      "47/47 [==============================] - 7s 144ms/step - loss: 2.1391\n",
      "Epoch 73/150\n",
      "47/47 [==============================] - 7s 143ms/step - loss: 2.1367\n",
      "Epoch 74/150\n",
      "47/47 [==============================] - 7s 143ms/step - loss: 2.1225\n",
      "Epoch 75/150\n",
      "47/47 [==============================] - 7s 148ms/step - loss: 2.1925\n",
      "Epoch 76/150\n",
      "47/47 [==============================] - 7s 142ms/step - loss: 2.1502\n",
      "Epoch 77/150\n",
      "47/47 [==============================] - 7s 144ms/step - loss: 2.1931\n",
      "Epoch 78/150\n",
      "47/47 [==============================] - 7s 142ms/step - loss: 2.1201\n",
      "Epoch 79/150\n",
      "47/47 [==============================] - 7s 142ms/step - loss: 2.1449\n",
      "Epoch 80/150\n",
      "47/47 [==============================] - 7s 148ms/step - loss: 2.1633\n",
      "Epoch 81/150\n",
      "47/47 [==============================] - 7s 142ms/step - loss: 2.1816\n",
      "Epoch 82/150\n",
      "47/47 [==============================] - 7s 143ms/step - loss: 2.1047\n",
      "Epoch 83/150\n",
      "47/47 [==============================] - 7s 143ms/step - loss: 2.1477\n",
      "Epoch 84/150\n",
      "47/47 [==============================] - 7s 142ms/step - loss: 2.0650\n",
      "Epoch 85/150\n",
      "47/47 [==============================] - 7s 148ms/step - loss: 2.1339\n",
      "Epoch 86/150\n",
      "47/47 [==============================] - 7s 143ms/step - loss: 2.0970\n",
      "Epoch 87/150\n",
      "47/47 [==============================] - 7s 142ms/step - loss: 2.1242\n",
      "Epoch 88/150\n",
      "47/47 [==============================] - 7s 144ms/step - loss: 2.0645\n",
      "Epoch 89/150\n",
      "47/47 [==============================] - 7s 142ms/step - loss: 2.0708\n",
      "Epoch 90/150\n",
      "47/47 [==============================] - 7s 149ms/step - loss: 2.1347\n",
      "Epoch 91/150\n",
      "47/47 [==============================] - 7s 142ms/step - loss: 2.1015\n",
      "Epoch 92/150\n",
      "47/47 [==============================] - 7s 142ms/step - loss: 2.1551\n",
      "Epoch 93/150\n",
      "47/47 [==============================] - 7s 143ms/step - loss: 2.1092\n",
      "Epoch 94/150\n",
      "47/47 [==============================] - 7s 142ms/step - loss: 2.0958\n",
      "Epoch 95/150\n",
      "47/47 [==============================] - 7s 150ms/step - loss: 2.1278\n",
      "Epoch 96/150\n",
      "47/47 [==============================] - 7s 144ms/step - loss: 2.0902\n",
      "Epoch 97/150\n",
      "47/47 [==============================] - 7s 143ms/step - loss: 2.1156\n",
      "Epoch 98/150\n",
      "47/47 [==============================] - 7s 145ms/step - loss: 2.0660\n",
      "Epoch 99/150\n",
      "47/47 [==============================] - 7s 145ms/step - loss: 2.0244\n",
      "Epoch 100/150\n",
      "47/47 [==============================] - 7s 148ms/step - loss: 2.0854\n",
      "Epoch 101/150\n",
      "47/47 [==============================] - 7s 144ms/step - loss: 2.0808\n",
      "Epoch 102/150\n",
      "47/47 [==============================] - 7s 143ms/step - loss: 2.0949\n",
      "Epoch 103/150\n",
      "47/47 [==============================] - 7s 144ms/step - loss: 2.0872\n",
      "Epoch 104/150\n",
      "47/47 [==============================] - 7s 148ms/step - loss: 2.0961\n",
      "Epoch 105/150\n",
      "47/47 [==============================] - 7s 143ms/step - loss: 2.0611\n",
      "Epoch 106/150\n",
      "47/47 [==============================] - 7s 143ms/step - loss: 2.0935\n",
      "Epoch 107/150\n",
      "47/47 [==============================] - 7s 151ms/step - loss: 2.0910\n",
      "Epoch 108/150\n",
      "47/47 [==============================] - 7s 145ms/step - loss: 2.0965\n",
      "Epoch 109/150\n",
      "47/47 [==============================] - 7s 148ms/step - loss: 2.0751\n",
      "Epoch 110/150\n",
      "47/47 [==============================] - 7s 143ms/step - loss: 2.0549\n",
      "Epoch 111/150\n",
      "47/47 [==============================] - 7s 144ms/step - loss: 2.1017\n",
      "Epoch 112/150\n",
      "47/47 [==============================] - 7s 143ms/step - loss: 2.0826\n",
      "Epoch 113/150\n",
      "47/47 [==============================] - 7s 141ms/step - loss: 2.0651\n",
      "Epoch 114/150\n",
      "47/47 [==============================] - 7s 148ms/step - loss: 2.0618\n",
      "Epoch 115/150\n",
      "47/47 [==============================] - 7s 143ms/step - loss: 2.0610\n",
      "Epoch 116/150\n",
      "47/47 [==============================] - 7s 144ms/step - loss: 2.0682\n",
      "Epoch 117/150\n",
      "47/47 [==============================] - 7s 143ms/step - loss: 2.0588\n",
      "Epoch 118/150\n",
      "47/47 [==============================] - 7s 142ms/step - loss: 2.0733\n",
      "Epoch 119/150\n",
      "47/47 [==============================] - 7s 148ms/step - loss: 2.0511\n",
      "Epoch 120/150\n",
      "47/47 [==============================] - 7s 143ms/step - loss: 2.0346\n",
      "Epoch 121/150\n",
      "47/47 [==============================] - 7s 142ms/step - loss: 2.0391\n",
      "Epoch 122/150\n",
      "47/47 [==============================] - 7s 144ms/step - loss: 2.0391\n",
      "Epoch 123/150\n",
      "47/47 [==============================] - 7s 142ms/step - loss: 2.0945\n",
      "Epoch 124/150\n",
      "47/47 [==============================] - 7s 150ms/step - loss: 2.1113\n",
      "Epoch 125/150\n",
      "47/47 [==============================] - 7s 145ms/step - loss: 2.0531\n",
      "Epoch 126/150\n",
      "47/47 [==============================] - 7s 143ms/step - loss: 2.0296\n",
      "Epoch 127/150\n",
      "47/47 [==============================] - 7s 144ms/step - loss: 2.0562\n",
      "Epoch 128/150\n",
      "47/47 [==============================] - 7s 143ms/step - loss: 2.0748\n",
      "Epoch 129/150\n",
      "47/47 [==============================] - 7s 149ms/step - loss: 2.0503\n",
      "Epoch 130/150\n",
      "47/47 [==============================] - 7s 144ms/step - loss: 2.0584\n",
      "Epoch 131/150\n",
      "47/47 [==============================] - 7s 142ms/step - loss: 2.0912\n",
      "Epoch 132/150\n",
      "47/47 [==============================] - 7s 145ms/step - loss: 2.0275\n",
      "Epoch 133/150\n",
      "47/47 [==============================] - 7s 145ms/step - loss: 2.0581\n",
      "Epoch 134/150\n",
      "47/47 [==============================] - 7s 148ms/step - loss: 2.0330\n",
      "Epoch 135/150\n",
      "47/47 [==============================] - 7s 144ms/step - loss: 2.0093\n",
      "Epoch 136/150\n",
      "47/47 [==============================] - 7s 144ms/step - loss: 2.0512\n",
      "Epoch 137/150\n",
      "47/47 [==============================] - 7s 144ms/step - loss: 2.0354\n",
      "Epoch 138/150\n",
      "47/47 [==============================] - 7s 148ms/step - loss: 2.0434\n",
      "Epoch 139/150\n",
      "47/47 [==============================] - 7s 144ms/step - loss: 2.0728\n",
      "Epoch 140/150\n",
      "47/47 [==============================] - 7s 145ms/step - loss: 2.0287\n",
      "Epoch 141/150\n",
      "47/47 [==============================] - 7s 144ms/step - loss: 2.0618\n",
      "Epoch 142/150\n",
      "47/47 [==============================] - 7s 144ms/step - loss: 2.0198\n",
      "Epoch 143/150\n",
      "47/47 [==============================] - 7s 149ms/step - loss: 2.0700\n",
      "Epoch 144/150\n",
      "47/47 [==============================] - 7s 143ms/step - loss: 1.9941\n",
      "Epoch 145/150\n",
      "47/47 [==============================] - 7s 144ms/step - loss: 2.0283\n",
      "Epoch 146/150\n",
      "47/47 [==============================] - 7s 144ms/step - loss: 2.0784\n",
      "Epoch 147/150\n",
      "47/47 [==============================] - 7s 142ms/step - loss: 2.0511\n",
      "Epoch 148/150\n",
      "47/47 [==============================] - 7s 150ms/step - loss: 2.0542\n",
      "Epoch 149/150\n",
      "47/47 [==============================] - 7s 145ms/step - loss: 1.9945\n",
      "Epoch 150/150\n",
      "47/47 [==============================] - 7s 144ms/step - loss: 2.0339\n"
     ]
    },
    {
     "data": {
      "text/plain": [
       "<tensorflow.python.keras.callbacks.History at 0x7f701dc53290>"
      ]
     },
     "execution_count": 54,
     "metadata": {},
     "output_type": "execute_result"
    }
   ],
   "source": [
    "model.fit(X, y, epochs=150, batch_size=64)"
   ]
  },
  {
   "cell_type": "code",
   "execution_count": 137,
   "metadata": {
    "execution": {
     "iopub.execute_input": "2021-09-18T18:40:08.580569Z",
     "iopub.status.busy": "2021-09-18T18:40:08.580196Z",
     "iopub.status.idle": "2021-09-18T18:40:08.587103Z",
     "shell.execute_reply": "2021-09-18T18:40:08.586289Z",
     "shell.execute_reply.started": "2021-09-18T18:40:08.580531Z"
    }
   },
   "outputs": [],
   "source": [
    "\n",
    "def Predict_Next_Words(model, tokenizer, text):\n",
    "    \"\"\"\n",
    "        In this function we are using the tokenizer and models trained\n",
    "        and we are creating the sequence of the text entered and then\n",
    "        using our model to predict and return the the predicted word.\n",
    "    \n",
    "    \"\"\"\n",
    "    for i in range(3):\n",
    "        sequence = tokenizer.texts_to_sequences([text])[0]\n",
    "        sequence = np.array(sequence)\n",
    "        \n",
    "        preds = model.predict_classes(sequence)\n",
    "#         print(preds)\n",
    "        predicted_word = \"\"\n",
    "        \n",
    "        for key, value in tokenizer.word_index.items():\n",
    "            if value == preds:\n",
    "                predicted_word = key\n",
    "                break\n",
    "        \n",
    "        \n",
    "        return predicted_word"
   ]
  },
  {
   "cell_type": "code",
   "execution_count": 142,
   "metadata": {
    "execution": {
     "iopub.execute_input": "2021-09-18T18:42:32.076878Z",
     "iopub.status.busy": "2021-09-18T18:42:32.076551Z",
     "iopub.status.idle": "2021-09-18T18:42:34.433364Z",
     "shell.execute_reply": "2021-09-18T18:42:34.432258Z",
     "shell.execute_reply.started": "2021-09-18T18:42:32.076845Z"
    }
   },
   "outputs": [
    {
     "name": "stdin",
     "output_type": "stream",
     "text": [
      "Enter Your Text:-  what a strenuous\n"
     ]
    },
    {
     "data": {
      "text/plain": [
       "'career'"
      ]
     },
     "execution_count": 142,
     "metadata": {},
     "output_type": "execute_result"
    }
   ],
   "source": [
    "text = input('Enter Your Text:- ')\n",
    "text = text.split(\" \")\n",
    "text=text[-1]\n",
    "text= ''.join(text)\n",
    "Predict_Next_Words(model,token,text)"
   ]
  },
  {
   "cell_type": "code",
   "execution_count": 143,
   "metadata": {
    "execution": {
     "iopub.execute_input": "2021-09-18T18:43:05.837240Z",
     "iopub.status.busy": "2021-09-18T18:43:05.836772Z",
     "iopub.status.idle": "2021-09-18T18:43:05.842320Z",
     "shell.execute_reply": "2021-09-18T18:43:05.841700Z",
     "shell.execute_reply.started": "2021-09-18T18:43:05.837192Z"
    }
   },
   "outputs": [],
   "source": [
    "def preprocess(text):\n",
    "    text = text.split(\" \")\n",
    "    text=text[-1]\n",
    "    text= ''.join(text)\n",
    "    return text\n",
    "    "
   ]
  },
  {
   "cell_type": "code",
   "execution_count": 145,
   "metadata": {
    "execution": {
     "iopub.execute_input": "2021-09-18T18:43:34.479556Z",
     "iopub.status.busy": "2021-09-18T18:43:34.478329Z",
     "iopub.status.idle": "2021-09-18T18:43:39.692655Z",
     "shell.execute_reply": "2021-09-18T18:43:39.691231Z",
     "shell.execute_reply.started": "2021-09-18T18:43:34.479454Z"
    }
   },
   "outputs": [
    {
     "name": "stdin",
     "output_type": "stream",
     "text": [
      "Enter text : -  hii sir good\n"
     ]
    },
    {
     "name": "stdout",
     "output_type": "stream",
     "text": [
      "Predicted next : -  morning\n"
     ]
    }
   ],
   "source": [
    "text=input('Enter text : - ')\n",
    "print('Predicted next : - ',Predict_Next_Words(model,token,preprocess(text)))"
   ]
  },
  {
   "cell_type": "code",
   "execution_count": 146,
   "metadata": {
    "execution": {
     "iopub.execute_input": "2021-09-18T18:44:00.302745Z",
     "iopub.status.busy": "2021-09-18T18:44:00.301418Z",
     "iopub.status.idle": "2021-09-18T18:44:27.214203Z",
     "shell.execute_reply": "2021-09-18T18:44:27.212895Z",
     "shell.execute_reply.started": "2021-09-18T18:44:00.302680Z"
    }
   },
   "outputs": [
    {
     "name": "stdin",
     "output_type": "stream",
     "text": [
      "Enter text : -  Getting up\n"
     ]
    },
    {
     "name": "stdout",
     "output_type": "stream",
     "text": [
      "Predicted next : -  at\n"
     ]
    }
   ],
   "source": [
    "text=input('Enter text : - ')\n",
    "print('Predicted next : - ',Predict_Next_Words(model,token,preprocess(text)))"
   ]
  },
  {
   "cell_type": "code",
   "execution_count": 169,
   "metadata": {
    "execution": {
     "iopub.execute_input": "2021-09-18T18:48:55.645150Z",
     "iopub.status.busy": "2021-09-18T18:48:55.643968Z",
     "iopub.status.idle": "2021-09-18T18:49:01.439383Z",
     "shell.execute_reply": "2021-09-18T18:49:01.438138Z",
     "shell.execute_reply.started": "2021-09-18T18:48:55.645104Z"
    }
   },
   "outputs": [
    {
     "name": "stdin",
     "output_type": "stream",
     "text": [
      "Enter text : -  i know that\n"
     ]
    },
    {
     "name": "stdout",
     "output_type": "stream",
     "text": [
      "Predicted next : -  he\n"
     ]
    }
   ],
   "source": [
    "text=input('Enter text : - ')\n",
    "print('Predicted next : - ',Predict_Next_Words(model,token,preprocess(text)))"
   ]
  },
  {
   "cell_type": "code",
   "execution_count": null,
   "metadata": {},
   "outputs": [],
   "source": []
  }
 ],
 "metadata": {
  "kernelspec": {
   "display_name": "Python 3",
   "language": "python",
   "name": "python3"
  },
  "language_info": {
   "codemirror_mode": {
    "name": "ipython",
    "version": 3
   },
   "file_extension": ".py",
   "mimetype": "text/x-python",
   "name": "python",
   "nbconvert_exporter": "python",
   "pygments_lexer": "ipython3",
   "version": "3.8.8"
  }
 },
 "nbformat": 4,
 "nbformat_minor": 4
}
